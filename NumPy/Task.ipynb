{
 "cells": [
  {
   "cell_type": "code",
   "execution_count": 1,
   "id": "56cfd1ad-1260-41eb-a099-7c8ae76afc53",
   "metadata": {},
   "outputs": [],
   "source": [
    "import numpy as np"
   ]
  },
  {
   "cell_type": "markdown",
   "id": "bd195e20-baea-4a24-a51e-f5e3400b10b4",
   "metadata": {},
   "source": [
    "# 1.\tArray Creation"
   ]
  },
  {
   "cell_type": "code",
   "execution_count": 4,
   "id": "9f27e59a-a271-438b-8bec-19716bd94297",
   "metadata": {},
   "outputs": [
    {
     "name": "stdout",
     "output_type": "stream",
     "text": [
      "[10 11 12 13 14 15 16 17 18 19 20 21 22 23 24 25 26 27 28 29 30 31 32 33\n",
      " 34 35 36 37 38 39 40 41 42 43 44 45 46 47 48 49 50]\n"
     ]
    }
   ],
   "source": [
    "arr_1D=np.arange(10,51)\n",
    "print(arr_1D)"
   ]
  },
  {
   "cell_type": "code",
   "execution_count": 7,
   "id": "01f2f065-6a67-4f82-9a77-14bdf9f94f32",
   "metadata": {},
   "outputs": [
    {
     "name": "stdout",
     "output_type": "stream",
     "text": [
      "[[0.49415491 0.7358327  0.71280318]\n",
      " [0.24106488 0.38202799 0.97277075]\n",
      " [0.42752429 0.84291726 0.6270449 ]]\n"
     ]
    }
   ],
   "source": [
    "arr_3x3=np.random.rand(3,3)\n",
    "print(arr_3x3)"
   ]
  },
  {
   "cell_type": "markdown",
   "id": "af93ca1a-9cc8-4c20-ab56-67b68a2de8e6",
   "metadata": {},
   "source": [
    "# 2.\tArray Attributes"
   ]
  },
  {
   "cell_type": "code",
   "execution_count": 12,
   "id": "d177194b-9d30-411b-a611-d49d383ddd39",
   "metadata": {},
   "outputs": [
    {
     "name": "stdout",
     "output_type": "stream",
     "text": [
      "Shape:(41,),Size:41,Dtype:int64\n"
     ]
    }
   ],
   "source": [
    "shape=arr_1D.shape\n",
    "size=arr_1D.size\n",
    "dtype=arr_1D.dtype\n",
    "print(f'Shape:{shape},Size:{size},Dtype:{dtype}')"
   ]
  },
  {
   "cell_type": "markdown",
   "id": "39cd5803-3438-4175-888d-24a9e577a17d",
   "metadata": {},
   "source": [
    "# 3.\tBasic Operations"
   ]
  },
  {
   "cell_type": "code",
   "execution_count": 14,
   "id": "ee30112c-a29e-4ee4-8d49-2f96d7a0326d",
   "metadata": {},
   "outputs": [
    {
     "name": "stdout",
     "output_type": "stream",
     "text": [
      "[15 16 17 18 19 20 21 22 23 24 25 26 27 28 29 30 31 32 33 34 35 36 37 38\n",
      " 39 40 41 42 43 44 45 46 47 48 49 50 51 52 53 54 55]\n"
     ]
    }
   ],
   "source": [
    "arr_1D_plus5=arr_1D+5\n",
    "print(arr_1D_plus5)"
   ]
  },
  {
   "cell_type": "code",
   "execution_count": 25,
   "id": "be5b37b5-2390-4798-804d-e27962c93b24",
   "metadata": {},
   "outputs": [
    {
     "name": "stdout",
     "output_type": "stream",
     "text": [
      "Arr1: [[0.12834701 0.7675243 ]\n",
      " [0.63214721 0.43835402]]\n",
      "\n",
      "Arr2: [[0.53314898 0.32256105]\n",
      " [0.42568579 0.54615024]]\n",
      "\n",
      "Mul: [[0.06842808 0.24757344]\n",
      " [0.26909608 0.23940715]]\n"
     ]
    }
   ],
   "source": [
    "arr_2d_1 = np.random.rand(2, 2)\n",
    "arr_2d_2 = np.random.rand(2, 2)\n",
    "print('Arr1:',arr_2d_1)\n",
    "print()\n",
    "print('Arr2:',arr_2d_2)\n",
    "print()\n",
    "print('Mul:',arr_2d_1 * arr_2d_2)"
   ]
  },
  {
   "cell_type": "markdown",
   "id": "aca008bf-3005-48db-87ff-8f2a8fa2a788",
   "metadata": {},
   "source": [
    "# 4.\tIndexing and Slicing"
   ]
  },
  {
   "cell_type": "code",
   "execution_count": 28,
   "id": "5c16ba0c-a994-467e-bf1d-c11bdf3d9aa5",
   "metadata": {},
   "outputs": [
    {
     "name": "stdout",
     "output_type": "stream",
     "text": [
      "[[ 1  2  3  4  5]\n",
      " [ 6  7  8  9 10]\n",
      " [11 12 13 14 15]\n",
      " [16 17 18 19 20]\n",
      " [21 22 23 24 25]]\n"
     ]
    }
   ],
   "source": [
    "arr_5x5=np.arange(1,26).reshape(5,5)\n",
    "print(arr_5x5)"
   ]
  },
  {
   "cell_type": "code",
   "execution_count": 30,
   "id": "8a5d639d-4247-41ce-9696-473e2fd6bf8f",
   "metadata": {},
   "outputs": [
    {
     "data": {
      "text/plain": [
       "array([1, 2, 3, 4, 5])"
      ]
     },
     "execution_count": 30,
     "metadata": {},
     "output_type": "execute_result"
    }
   ],
   "source": [
    "arr_5x5[0,:]"
   ]
  },
  {
   "cell_type": "code",
   "execution_count": 32,
   "id": "742b261e-827b-4823-865c-aac16c2137e3",
   "metadata": {},
   "outputs": [
    {
     "data": {
      "text/plain": [
       "array([ 5, 10, 15, 20, 25])"
      ]
     },
     "execution_count": 32,
     "metadata": {},
     "output_type": "execute_result"
    }
   ],
   "source": [
    "arr_5x5[:,-1]"
   ]
  },
  {
   "cell_type": "code",
   "execution_count": 37,
   "id": "32100df6-8862-4242-9a9a-a1f66f1e9b58",
   "metadata": {},
   "outputs": [
    {
     "data": {
      "text/plain": [
       "array([[ 1,  2],\n",
       "       [ 6,  7],\n",
       "       [11, 12]])"
      ]
     },
     "execution_count": 37,
     "metadata": {},
     "output_type": "execute_result"
    }
   ],
   "source": [
    "arr_5x5[:3,:2]"
   ]
  },
  {
   "cell_type": "markdown",
   "id": "8152dab8-4fc6-40f5-8b5a-82e9602c44c8",
   "metadata": {},
   "source": [
    "# 5.\tAggregation"
   ]
  },
  {
   "cell_type": "code",
   "execution_count": 38,
   "id": "92027a31-3260-405d-97f2-cf4a21964867",
   "metadata": {},
   "outputs": [
    {
     "name": "stdout",
     "output_type": "stream",
     "text": [
      "[97 61 21 35 64 82  1 65  6 28]\n"
     ]
    }
   ],
   "source": [
    "arr_10=np.random.randint(1,101,10)\n",
    "print(arr_10)"
   ]
  },
  {
   "cell_type": "code",
   "execution_count": 43,
   "id": "000054dd-bb07-4fca-ab67-3fd220fc6bce",
   "metadata": {},
   "outputs": [
    {
     "name": "stdout",
     "output_type": "stream",
     "text": [
      "Max: 97, Min: 1, Mean: 46.0, Std: 30.82531427252608\n"
     ]
    }
   ],
   "source": [
    "max_value = np.max(arr_10)\n",
    "min_value = np.min(arr_10)\n",
    "mean_value = np.mean(arr_10)\n",
    "std_value = np.std(arr_10)\n",
    "print(f\"Max: {max_value}, Min: {min_value}, Mean: {mean_value}, Std: {std_value}\")"
   ]
  },
  {
   "cell_type": "markdown",
   "id": "d3718300-fff8-47d4-b762-5fc478a849af",
   "metadata": {},
   "source": [
    "# 6.\tReshaping"
   ]
  },
  {
   "cell_type": "code",
   "execution_count": 51,
   "id": "1b018546-3f04-431d-89d0-55daa22423a7",
   "metadata": {},
   "outputs": [
    {
     "name": "stdout",
     "output_type": "stream",
     "text": [
      "[ 1  2  3  4  5  6  7  8  9 10 11 12]\n",
      "[[ 1  2  3  4]\n",
      " [ 5  6  7  8]\n",
      " [ 9 10 11 12]]\n"
     ]
    }
   ],
   "source": [
    "arr_1d=np.arange(1,13)\n",
    "print(arr_1d)\n",
    "arr_reshaped=arr.reshape(3,4)\n",
    "print(arr_reshaped)"
   ]
  },
  {
   "cell_type": "markdown",
   "id": "75f36bff-114a-41a7-bef3-05226d22e227",
   "metadata": {},
   "source": [
    "# 7.\tBroadcasting"
   ]
  },
  {
   "cell_type": "code",
   "execution_count": 56,
   "id": "3fa29b26-50af-44bb-8b7c-7f963d8f2ba0",
   "metadata": {},
   "outputs": [
    {
     "name": "stdout",
     "output_type": "stream",
     "text": [
      "[[1. 1. 1.]\n",
      " [1. 1. 1.]\n",
      " [1. 1. 1.]]\n",
      "\n",
      "[[2. 3. 4.]\n",
      " [2. 3. 4.]\n",
      " [2. 3. 4.]]\n"
     ]
    }
   ],
   "source": [
    "arr_3x3_1s=np.ones((3,3))\n",
    "print(arr_3x3_1s)\n",
    "print()\n",
    "broadcasted_arr=arr_3x3_1s+np.array([1,2,3])\n",
    "print(broadcasted_arr)"
   ]
  },
  {
   "cell_type": "markdown",
   "id": "260a09fa-a711-4a54-83fa-2ef0c6b237f3",
   "metadata": {},
   "source": [
    "# 8.\tFiltering"
   ]
  },
  {
   "cell_type": "code",
   "execution_count": 61,
   "id": "196d0217-d4dc-4ac5-b578-df80c18d1ae0",
   "metadata": {},
   "outputs": [
    {
     "name": "stdout",
     "output_type": "stream",
     "text": [
      "[17  1  7 31 25 23 30 20 20  5]\n",
      "[25 30 20 20  5]\n"
     ]
    }
   ],
   "source": [
    "arr_random=np.random.randint(1,51,10)\n",
    "print(arr_random)\n",
    "filtered_arr=arr_random[arr_random%5==0]\n",
    "print(filtered_arr)"
   ]
  },
  {
   "cell_type": "markdown",
   "id": "c96468cd-e9eb-465c-b8d8-fd4800eb3375",
   "metadata": {},
   "source": [
    "# 9.\tMatrix Multiplication"
   ]
  },
  {
   "cell_type": "code",
   "execution_count": 66,
   "id": "2cc2c788-6ee6-420c-aa8c-820a3c64517a",
   "metadata": {},
   "outputs": [
    {
     "name": "stdout",
     "output_type": "stream",
     "text": [
      "[[0.31997571 0.79806653]\n",
      " [0.65982582 0.47442125]]\n",
      "\n",
      "[[0.97907103 0.42445056]\n",
      " [0.11096188 0.68524482]]\n",
      "\n",
      "[[0.40183391 0.68268483]\n",
      " [0.69865902 0.60515814]]\n"
     ]
    }
   ],
   "source": [
    "matrix_1 = np.random.rand(2, 2)\n",
    "matrix_2 = np.random.rand(2, 2)\n",
    "print(matrix_1)\n",
    "print()\n",
    "print(matrix_2)\n",
    "print()\n",
    "matrix_product=np.dot(matrix_1,matrix_2)\n",
    "print(matrix_product)"
   ]
  },
  {
   "cell_type": "markdown",
   "id": "0f6c1c3d-7ddd-4f7a-9156-f0d705309146",
   "metadata": {},
   "source": [
    "# 10.\tAdvanced Indexing"
   ]
  },
  {
   "cell_type": "code",
   "execution_count": 72,
   "id": "2c6fbaea-235f-483a-ba14-972bbb84f36f",
   "metadata": {},
   "outputs": [
    {
     "name": "stdout",
     "output_type": "stream",
     "text": [
      "[[38 93 12 83]\n",
      " [ 6 54 22 10]\n",
      " [57 27  5 91]\n",
      " [24 47 16 52]]\n",
      "[38 54  5 52]\n"
     ]
    }
   ],
   "source": [
    "arr_4x4=np.random.randint(0,100, size=(4,4))\n",
    "print(arr_4x4)\n",
    "diag_ele=np.diagonal(arr_4x4)\n",
    "print(diag_ele)"
   ]
  },
  {
   "cell_type": "code",
   "execution_count": null,
   "id": "54fc7a2a-980f-435c-8725-e21ac6f49d19",
   "metadata": {},
   "outputs": [],
   "source": []
  }
 ],
 "metadata": {
  "kernelspec": {
   "display_name": "Python 3 (ipykernel)",
   "language": "python",
   "name": "python3"
  },
  "language_info": {
   "codemirror_mode": {
    "name": "ipython",
    "version": 3
   },
   "file_extension": ".py",
   "mimetype": "text/x-python",
   "name": "python",
   "nbconvert_exporter": "python",
   "pygments_lexer": "ipython3",
   "version": "3.13.1"
  }
 },
 "nbformat": 4,
 "nbformat_minor": 5
}
