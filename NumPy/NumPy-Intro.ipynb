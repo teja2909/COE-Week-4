{
 "cells": [
  {
   "cell_type": "code",
   "execution_count": 8,
   "id": "36cdd063",
   "metadata": {},
   "outputs": [],
   "source": [
    "import numpy as np"
   ]
  },
  {
   "cell_type": "code",
   "execution_count": 10,
   "id": "0d6ba15c",
   "metadata": {},
   "outputs": [
    {
     "data": {
      "text/plain": [
       "array([1, 2, 3, 4, 5])"
      ]
     },
     "execution_count": 10,
     "metadata": {},
     "output_type": "execute_result"
    }
   ],
   "source": [
    "# 1D Arary\n",
    "arr_1d=np.array([1,2,3,4,5])\n",
    "arr_1d"
   ]
  },
  {
   "cell_type": "code",
   "execution_count": 11,
   "id": "060e0b3c",
   "metadata": {},
   "outputs": [
    {
     "data": {
      "text/plain": [
       "array([[1, 2, 3],\n",
       "       [4, 5, 6],\n",
       "       [7, 8, 9]])"
      ]
     },
     "execution_count": 11,
     "metadata": {},
     "output_type": "execute_result"
    }
   ],
   "source": [
    "# 2D Array\n",
    "arr_2d=np.array([[1,2,3],[4,5,6],[7,8,9]])\n",
    "arr_2d"
   ]
  },
  {
   "cell_type": "code",
   "execution_count": 14,
   "id": "a4ef4e01",
   "metadata": {},
   "outputs": [
    {
     "data": {
      "text/plain": [
       "array([[0., 0., 0.],\n",
       "       [0., 0., 0.],\n",
       "       [0., 0., 0.]])"
      ]
     },
     "execution_count": 14,
     "metadata": {},
     "output_type": "execute_result"
    }
   ],
   "source": [
    "# Zero matrix\n",
    "np.zeros((3,3))"
   ]
  },
  {
   "cell_type": "code",
   "execution_count": 15,
   "id": "9cd11f0e",
   "metadata": {},
   "outputs": [
    {
     "data": {
      "text/plain": [
       "array([[1., 1., 1.],\n",
       "       [1., 1., 1.],\n",
       "       [1., 1., 1.]])"
      ]
     },
     "execution_count": 15,
     "metadata": {},
     "output_type": "execute_result"
    }
   ],
   "source": [
    "np.ones((3,3))"
   ]
  },
  {
   "cell_type": "code",
   "execution_count": 24,
   "id": "444065de",
   "metadata": {},
   "outputs": [
    {
     "data": {
      "text/plain": [
       "array([[9, 9, 2],\n",
       "       [0, 9, 4],\n",
       "       [6, 9, 8]])"
      ]
     },
     "execution_count": 24,
     "metadata": {},
     "output_type": "execute_result"
    }
   ],
   "source": [
    "np.random.randint(0,10,size=(3,3))"
   ]
  },
  {
   "cell_type": "code",
   "execution_count": 29,
   "id": "768bb12e",
   "metadata": {},
   "outputs": [
    {
     "data": {
      "text/plain": [
       "array([[1., 0., 0.],\n",
       "       [0., 1., 0.],\n",
       "       [0., 0., 1.]])"
      ]
     },
     "execution_count": 29,
     "metadata": {},
     "output_type": "execute_result"
    }
   ],
   "source": [
    "# Identity martrix\n",
    "np.eye(3)"
   ]
  },
  {
   "cell_type": "code",
   "execution_count": 30,
   "id": "1e614487",
   "metadata": {},
   "outputs": [
    {
     "data": {
      "text/plain": [
       "array([[1., 0., 0., 0., 0.],\n",
       "       [0., 1., 0., 0., 0.],\n",
       "       [0., 0., 1., 0., 0.]])"
      ]
     },
     "execution_count": 30,
     "metadata": {},
     "output_type": "execute_result"
    }
   ],
   "source": [
    "np.eye(3,5)"
   ]
  },
  {
   "cell_type": "code",
   "execution_count": 32,
   "id": "b68924a6",
   "metadata": {},
   "outputs": [
    {
     "data": {
      "text/plain": [
       "array([0, 2, 4, 6, 8])"
      ]
     },
     "execution_count": 32,
     "metadata": {},
     "output_type": "execute_result"
    }
   ],
   "source": [
    "np.arange(0,10,2)"
   ]
  },
  {
   "cell_type": "markdown",
   "id": "c520be62",
   "metadata": {},
   "source": [
    "# Numpy Attributes"
   ]
  },
  {
   "cell_type": "code",
   "execution_count": 44,
   "id": "094157eb",
   "metadata": {},
   "outputs": [
    {
     "name": "stdout",
     "output_type": "stream",
     "text": [
      "shape: (2, 3)\n",
      "Size:  6\n",
      "Data Type:  int32\n",
      "Dimension:  2\n"
     ]
    }
   ],
   "source": [
    "arr=np.array([[1,2,3],[4,5,6]])\n",
    "print(\"shape:\",arr.shape)\n",
    "print(\"Size: \",arr.size)\n",
    "print(\"Data Type: \",arr.dtype)\n",
    "print(\"Dimension: \",arr.ndim)"
   ]
  },
  {
   "cell_type": "code",
   "execution_count": 57,
   "id": "eed54cd6",
   "metadata": {},
   "outputs": [
    {
     "name": "stdout",
     "output_type": "stream",
     "text": [
      "2\n",
      "[1 4]\n",
      "[2 3 5 6]\n"
     ]
    }
   ],
   "source": [
    "print(arr[0,1])\n",
    "print(arr[:,0])\n",
    "print(arr[:,1:].flatten())"
   ]
  },
  {
   "cell_type": "code",
   "execution_count": 71,
   "id": "9bc70a3a",
   "metadata": {},
   "outputs": [
    {
     "name": "stdout",
     "output_type": "stream",
     "text": [
      "[ 7  9 11 13 15]\n",
      "[-5 -5 -5 -5 -5]\n",
      "[1 2 3 4 5]\n",
      "[ 7  5 11 13 15]\n"
     ]
    }
   ],
   "source": [
    "a=np.array([1,2,3,4,5])\n",
    "b=np.array([6,7,8,9,10])\n",
    "print(a+b)\n",
    "print(a-b)\n",
    "print(a%b)\n",
    "print(a^b)"
   ]
  },
  {
   "cell_type": "code",
   "execution_count": 83,
   "id": "425a7d96",
   "metadata": {},
   "outputs": [
    {
     "name": "stdout",
     "output_type": "stream",
     "text": [
      "[[ 30  24  18]\n",
      " [ 84  69  54]\n",
      " [138 114  90]]\n",
      "\n",
      "[[-10  20 -10]\n",
      " [-10  20 -10]\n",
      " [-10  20 -10]]\n"
     ]
    }
   ],
   "source": [
    "x=np.array([\n",
    "    [1,2,3],[4,5,6],[7,8,9]\n",
    "])\n",
    "y=np.array([[9,8,7],[6,5,4],[3,2,1]\n",
    "])\n",
    "print(np.dot(x,y))\n",
    "print()\n",
    "print(np.cross(x,y))"
   ]
  },
  {
   "cell_type": "code",
   "execution_count": 95,
   "id": "6f5bf6c4",
   "metadata": {},
   "outputs": [
    {
     "data": {
      "text/plain": [
       "<Axes: >"
      ]
     },
     "execution_count": 95,
     "metadata": {},
     "output_type": "execute_result"
    },
    {
     "data": {
      "image/png": "[encoded data removed]",
      "text/plain": [
       "<Figure size 640x480 with 1 Axes>"
      ]
     },
     "metadata": {},
     "output_type": "display_data"
    }
   ],
   "source": [
    "import seaborn as sns\n",
    "sns.lineplot(data=np.dot(x,y))"
   ]
  },
  {
   "cell_type": "code",
   "execution_count": 90,
   "id": "6c83504c",
   "metadata": {},
   "outputs": [
    {
     "data": {
      "text/plain": [
       "[<matplotlib.lines.Line2D at 0x1eb001aebd0>,\n",
       " <matplotlib.lines.Line2D at 0x1eb001aee50>,\n",
       " <matplotlib.lines.Line2D at 0x1eb001aee90>]"
      ]
     },
     "execution_count": 90,
     "metadata": {},
     "output_type": "execute_result"
    },
    {
     "data": {
      "image/png": "[encoded data removed]",
      "text/plain": [
       "<Figure size 640x480 with 1 Axes>"
      ]
     },
     "metadata": {},
     "output_type": "display_data"
    }
   ],
   "source": [
    "import matplotlib.pyplot as plt\n",
    "plt.plot(x,y)"
   ]
  },
  {
   "cell_type": "markdown",
   "id": "0db7e256",
   "metadata": {},
   "source": [
    "# Aggregate functions"
   ]
  },
  {
   "cell_type": "code",
   "execution_count": 111,
   "id": "5ae24bed",
   "metadata": {},
   "outputs": [
    {
     "name": "stdout",
     "output_type": "stream",
     "text": [
      "Sum: 10\n",
      "Mean: 2.5\n",
      "Standard Deviation:1.12\n",
      "Max: 4\n",
      "Min: 1\n",
      "Reshape: [[1 2]\n",
      " [3 4]]\n"
     ]
    }
   ],
   "source": [
    "arr=np.array([1,2,3,4])\n",
    "print(\"Sum:\",np.sum(arr))\n",
    "print(\"Mean:\",np.mean(arr))\n",
    "print(f\"Standard Deviation:{np.std(arr):.2f}\")\n",
    "print(\"Max:\",np.max(arr))\n",
    "print(\"Min:\",np.min(arr))\n",
    "print(\"Reshape:\",arr.reshape(2,2))"
   ]
  },
  {
   "cell_type": "markdown",
   "id": "d5386390",
   "metadata": {},
   "source": [
    "# Stack & Splitting"
   ]
  },
  {
   "cell_type": "code",
   "execution_count": 117,
   "id": "fe29e0ae",
   "metadata": {},
   "outputs": [
    {
     "name": "stdout",
     "output_type": "stream",
     "text": [
      "[[1 2 3]\n",
      " [4 5 6]]\n",
      "[1 2 3 4 5 6]\n",
      "[[[1 4]\n",
      "  [2 5]\n",
      "  [3 6]]]\n"
     ]
    }
   ],
   "source": [
    "a=np.array([1,2,3])\n",
    "b=np.array([4,5,6])\n",
    "print(np.vstack((a,b)))\n",
    "print(np.hstack((a,b)))\n",
    "print(np.dstack((a,b)))"
   ]
  },
  {
   "cell_type": "code",
   "execution_count": 121,
   "id": "17e01672",
   "metadata": {},
   "outputs": [
    {
     "name": "stdout",
     "output_type": "stream",
     "text": [
      "[array([1, 2]), array([3, 4]), array([5, 6])]\n"
     ]
    }
   ],
   "source": [
    "arr=np.array([1,2,3,4,5,6])\n",
    "print(np.array_split(arr,3))"
   ]
  },
  {
   "cell_type": "markdown",
   "id": "d8148866",
   "metadata": {},
   "source": [
    "# Copy & view"
   ]
  },
  {
   "cell_type": "code",
   "execution_count": 123,
   "id": "8cfc2ab5",
   "metadata": {},
   "outputs": [
    {
     "data": {
      "text/plain": [
       "array([10,  2,  3,  4,  5,  6])"
      ]
     },
     "execution_count": 123,
     "metadata": {},
     "output_type": "execute_result"
    }
   ],
   "source": [
    "view=arr.view()\n",
    "view[0]=10\n",
    "arr"
   ]
  },
  {
   "cell_type": "code",
   "execution_count": 124,
   "id": "0f870796",
   "metadata": {},
   "outputs": [
    {
     "data": {
      "text/plain": [
       "array([10,  2,  3])"
      ]
     },
     "execution_count": 124,
     "metadata": {},
     "output_type": "execute_result"
    }
   ],
   "source": [
    "a=np.array([1,2,3])\n",
    "b=a\n",
    "b[0]=10\n",
    "a"
   ]
  },
  {
   "cell_type": "code",
   "execution_count": 125,
   "id": "7ed3967c",
   "metadata": {},
   "outputs": [
    {
     "data": {
      "text/plain": [
       "array([1, 2, 3])"
      ]
     },
     "execution_count": 125,
     "metadata": {},
     "output_type": "execute_result"
    }
   ],
   "source": [
    "a=np.array([1,2,3])\n",
    "b=a.copy()\n",
    "b[0]=10\n",
    "a"
   ]
  },
  {
   "cell_type": "markdown",
   "id": "28933ece",
   "metadata": {},
   "source": [
    "# Saving & loading"
   ]
  },
  {
   "cell_type": "code",
   "execution_count": 126,
   "id": "aff8e793",
   "metadata": {},
   "outputs": [],
   "source": [
    "arr=np.array([1,2,3])\n",
    "np.save('arr.npy',arr)"
   ]
  },
  {
   "cell_type": "code",
   "execution_count": 128,
   "id": "2349b4a9",
   "metadata": {},
   "outputs": [
    {
     "data": {
      "text/plain": [
       "array([1, 2, 3])"
      ]
     },
     "execution_count": 128,
     "metadata": {},
     "output_type": "execute_result"
    }
   ],
   "source": [
    "np.load('arr.npy')"
   ]
  },
  {
   "cell_type": "code",
   "execution_count": null,
   "id": "0c474395",
   "metadata": {},
   "outputs": [],
   "source": []
  }
 ],
 "metadata": {
  "kernelspec": {
   "display_name": "Python 3 (ipykernel)",
   "language": "python",
   "name": "python3"
  },
  "language_info": {
   "codemirror_mode": {
    "name": "ipython",
    "version": 3
   },
   "file_extension": ".py",
   "mimetype": "text/x-python",
   "name": "python",
   "nbconvert_exporter": "python",
   "pygments_lexer": "ipython3",
   "version": "3.13.1"
  }
 },
 "nbformat": 4,
 "nbformat_minor": 5
}
